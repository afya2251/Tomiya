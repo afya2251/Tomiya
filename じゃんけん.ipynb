{
  "nbformat": 4,
  "nbformat_minor": 0,
  "metadata": {
    "colab": {
      "name": "seminar.ipynb のコピー",
      "version": "0.3.2",
      "provenance": [],
      "collapsed_sections": [],
      "include_colab_link": true
    },
    "kernelspec": {
      "name": "python3",
      "display_name": "Python 3"
    }
  },
  "cells": [
    {
      "cell_type": "markdown",
      "metadata": {
        "id": "view-in-github",
        "colab_type": "text"
      },
      "source": [
        "<a href=\"https://colab.research.google.com/github/afya2251/Tomiya/blob/master/%E3%81%98%E3%82%83%E3%82%93%E3%81%91%E3%82%93.ipynb\" target=\"_parent\"><img src=\"https://colab.research.google.com/assets/colab-badge.svg\" alt=\"Open In Colab\"/></a>"
      ]
    },
    {
      "cell_type": "code",
      "metadata": {
        "id": "rxLhUhweL_bV",
        "colab_type": "code",
        "outputId": "5561cbf1-c5ad-47fc-f092-f455e72406bd",
        "colab": {
          "base_uri": "https://localhost:8080/",
          "height": 87
        }
      },
      "source": [
        "\n",
        "import random\n",
        "\n",
        "print('じゃんけんスタート')\n",
        "\n",
        "print('自分の手を入力してください')\n",
        "my_hand = int(input('0:グー, 1:チョキ, 2:パー'))\n",
        "you_hand = random.randint(0, 2)\n",
        "\n",
        "if my_hand == 0:\n",
        "  if you_hand == 0:\n",
        "    print('あいこ')\n",
        "  elif you_hand == 1:\n",
        "    print('勝ち')\n",
        "  elif you_hand == 2:\n",
        "    print('負け')\n",
        "elif my_hand == 1:\n",
        "  if you_hand == 0:\n",
        "    print('負け')\n",
        "  elif you_hand == 1:\n",
        "    print('あいこ')\n",
        "  elif you_hand == 2:\n",
        "    print('勝ち')\n",
        "elif my_hand == 2:\n",
        "  if you_hand == 0:\n",
        "    print('勝ち')\n",
        "  elif you_hand == 1:\n",
        "    print('負け')\n",
        "  elif you_hand == 2:\n",
        "    print('あいこ')"
      ],
      "execution_count": 0,
      "outputs": [
        {
          "output_type": "stream",
          "text": [
            "じゃんけんスタート\n",
            "自分の手を入力してください\n",
            "0:グー, 1:チョキ, 2:パー2\n",
            "勝ち\n"
          ],
          "name": "stdout"
        }
      ]
    },
    {
      "cell_type": "code",
      "metadata": {
        "id": "6DU0_9v0UpKC",
        "colab_type": "code",
        "outputId": "75ad4248-d1a5-4f1b-cf18-dcefd0ae2bd2",
        "colab": {
          "base_uri": "https://localhost:8080/",
          "height": 87
        }
      },
      "source": [
        "\n",
        "import random\n",
        "\n",
        "print('じゃんけんスタート')\n",
        "\n",
        "print('自分の手を入力してください')\n",
        "my_hand = int(input('0:グー, 1:チョキ, 2:パー'))\n",
        "#you_hand = random.randint(0, 2)\n",
        "you_hand = 1\n",
        "\n",
        "if you_hand == my_hand:\n",
        "  print('あいこです')\n",
        "elif you_hand == my_hand + 1 or my_hand - 2:\n",
        "  print('勝ちです')\n",
        "else:\n",
        "  print('負けです')"
      ],
      "execution_count": 0,
      "outputs": [
        {
          "output_type": "stream",
          "text": [
            "じゃんけんスタート\n",
            "自分の手を入力してください\n",
            "0:グー, 1:チョキ, 2:パー2\n",
            "負けです\n"
          ],
          "name": "stdout"
        }
      ]
    },
    {
      "cell_type": "code",
      "metadata": {
        "id": "q7NSStj-W84E",
        "colab_type": "code",
        "outputId": "6c29361d-491a-4ed5-8942-be7b72cd46d9",
        "colab": {
          "base_uri": "https://localhost:8080/",
          "height": 52
        }
      },
      "source": [
        "def calc(a, b):\n",
        "  result = a * b\n",
        "  print(str(a) + '×' + str(b))\n",
        "  return result\n",
        "\n",
        "cast_result = calc(3, 4)\n",
        "print(str(cast_result))"
      ],
      "execution_count": 0,
      "outputs": [
        {
          "output_type": "stream",
          "text": [
            "3×4\n",
            "12\n"
          ],
          "name": "stdout"
        }
      ]
    },
    {
      "cell_type": "code",
      "metadata": {
        "id": "F9uUDo5mQlGH",
        "colab_type": "code",
        "outputId": "46f5e2c5-ad58-4041-d8ed-f62408ab2774",
        "colab": {
          "base_uri": "https://localhost:8080/",
          "height": 35
        }
      },
      "source": [
        "number = 3\n",
        "\n",
        "if number == 1:\n",
        "  print('1です')\n",
        "elif number == 2 or 3:\n",
        "  print('2か3です')\n",
        "else:\n",
        "  print('条件にあてはまりません')"
      ],
      "execution_count": 0,
      "outputs": [
        {
          "output_type": "stream",
          "text": [
            "2か3です\n"
          ],
          "name": "stdout"
        }
      ]
    },
    {
      "cell_type": "code",
      "metadata": {
        "id": "vGyInFivfFQF",
        "colab_type": "code",
        "outputId": "256ca0dd-d926-418a-9f17-3678a53f92be",
        "colab": {
          "base_uri": "https://localhost:8080/",
          "height": 87
        }
      },
      "source": [
        "import random\n",
        "\n",
        "def start_message():\n",
        "  print('じゃんけんスタート')\n",
        "  \n",
        "def get_my_hand():\n",
        "  print('あなたの手を入力してください')\n",
        "  my_hand = int(input('0:グー, 1:チョキ, 2:パー'))\n",
        "  return my_hand\n",
        "\n",
        "def get_you_hand():\n",
        "  #you_hand = random.randint(0, 2)\n",
        "  you_hand = 0\n",
        "  return you_hand\n",
        "\n",
        "def view_result(hand_diff):\n",
        "  if hand_diff == 0:\n",
        "    print('あいこ')\n",
        "  elif hand_diff == -1 or hand_diff == 2:\n",
        "    print('勝ち')\n",
        "  else:\n",
        "    print('負け')\n",
        "\n",
        "start_message()\n",
        "my_hand = get_my_hand()\n",
        "you_hand = get_you_hand()\n",
        "diff = my_hand - you_hand\n",
        "view_result(diff)"
      ],
      "execution_count": 0,
      "outputs": [
        {
          "output_type": "stream",
          "text": [
            "じゃんけんスタート\n",
            "あなたの手を入力してください\n",
            "0:グー, 1:チョキ, 2:パー2\n",
            "勝ち\n"
          ],
          "name": "stdout"
        }
      ]
    }
  ]
}